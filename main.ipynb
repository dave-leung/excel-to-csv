{
 "cells": [
  {
   "cell_type": "code",
   "execution_count": 1,
   "id": "9a8334fc",
   "metadata": {},
   "outputs": [
    {
     "name": "stdout",
     "output_type": "stream",
     "text": [
      "Requirement already satisfied: openpyxl in /Users/dave.leung/PycharmProjects/data-analysis/venv/lib/python3.9/site-packages (3.1.2)\n",
      "Requirement already satisfied: et-xmlfile in /Users/dave.leung/PycharmProjects/data-analysis/venv/lib/python3.9/site-packages (from openpyxl) (1.1.0)\n",
      "\n",
      "\u001b[1m[\u001b[0m\u001b[34;49mnotice\u001b[0m\u001b[1;39;49m]\u001b[0m\u001b[39;49m A new release of pip available: \u001b[0m\u001b[31;49m22.3.1\u001b[0m\u001b[39;49m -> \u001b[0m\u001b[32;49m23.2.1\u001b[0m\n",
      "\u001b[1m[\u001b[0m\u001b[34;49mnotice\u001b[0m\u001b[1;39;49m]\u001b[0m\u001b[39;49m To update, run: \u001b[0m\u001b[32;49mpip install --upgrade pip\u001b[0m\n",
      "Requirement already satisfied: pandas in /Users/dave.leung/PycharmProjects/data-analysis/venv/lib/python3.9/site-packages (2.0.1)\n",
      "Requirement already satisfied: tzdata>=2022.1 in /Users/dave.leung/PycharmProjects/data-analysis/venv/lib/python3.9/site-packages (from pandas) (2023.3)\n",
      "Requirement already satisfied: python-dateutil>=2.8.2 in /Users/dave.leung/PycharmProjects/data-analysis/venv/lib/python3.9/site-packages (from pandas) (2.8.2)\n",
      "Requirement already satisfied: numpy>=1.20.3 in /Users/dave.leung/PycharmProjects/data-analysis/venv/lib/python3.9/site-packages (from pandas) (1.24.3)\n",
      "Requirement already satisfied: pytz>=2020.1 in /Users/dave.leung/PycharmProjects/data-analysis/venv/lib/python3.9/site-packages (from pandas) (2023.3)\n",
      "Requirement already satisfied: six>=1.5 in /Users/dave.leung/PycharmProjects/data-analysis/venv/lib/python3.9/site-packages (from python-dateutil>=2.8.2->pandas) (1.16.0)\n",
      "\n",
      "\u001b[1m[\u001b[0m\u001b[34;49mnotice\u001b[0m\u001b[1;39;49m]\u001b[0m\u001b[39;49m A new release of pip available: \u001b[0m\u001b[31;49m22.3.1\u001b[0m\u001b[39;49m -> \u001b[0m\u001b[32;49m23.2.1\u001b[0m\n",
      "\u001b[1m[\u001b[0m\u001b[34;49mnotice\u001b[0m\u001b[1;39;49m]\u001b[0m\u001b[39;49m To update, run: \u001b[0m\u001b[32;49mpip install --upgrade pip\u001b[0m\n",
      "Requirement already satisfied: xlrd in /Users/dave.leung/PycharmProjects/data-analysis/venv/lib/python3.9/site-packages (2.0.1)\n",
      "\n",
      "\u001b[1m[\u001b[0m\u001b[34;49mnotice\u001b[0m\u001b[1;39;49m]\u001b[0m\u001b[39;49m A new release of pip available: \u001b[0m\u001b[31;49m22.3.1\u001b[0m\u001b[39;49m -> \u001b[0m\u001b[32;49m23.2.1\u001b[0m\n",
      "\u001b[1m[\u001b[0m\u001b[34;49mnotice\u001b[0m\u001b[1;39;49m]\u001b[0m\u001b[39;49m To update, run: \u001b[0m\u001b[32;49mpip install --upgrade pip\u001b[0m\n"
     ]
    }
   ],
   "source": [
    "!pip3 install openpyxl\n",
    "!pip3 install pandas\n",
    "!pip3 install xlrd"
   ]
  },
  {
   "cell_type": "code",
   "execution_count": 2,
   "id": "5fc2fb99",
   "metadata": {},
   "outputs": [],
   "source": [
    "from openpyxl import Workbook\n",
    "import pandas as pd\n",
    "import os"
   ]
  },
  {
   "cell_type": "code",
   "execution_count": 3,
   "id": "a8db33c9",
   "metadata": {},
   "outputs": [],
   "source": [
    "# Directory containing the Excel files\n",
    "source_directory = 'source'"
   ]
  },
  {
   "cell_type": "code",
   "execution_count": 4,
   "id": "5facdbf5",
   "metadata": {},
   "outputs": [],
   "source": [
    "# Create the 'output' folder if it doesn't exist\n",
    "output_directory = os.path.join(source_directory, 'output')\n",
    "os.makedirs(output_directory, exist_ok=True)"
   ]
  },
  {
   "cell_type": "code",
   "execution_count": 5,
   "id": "e91c9281",
   "metadata": {},
   "outputs": [],
   "source": [
    "# Get a list of all files in the source directory\n",
    "files = os.listdir(source_directory)"
   ]
  },
  {
   "cell_type": "code",
   "execution_count": 6,
   "id": "5a93ec07",
   "metadata": {},
   "outputs": [
    {
     "ename": "NameError",
     "evalue": "name 'Print' is not defined",
     "output_type": "error",
     "traceback": [
      "\u001b[0;31m---------------------------------------------------------------------------\u001b[0m",
      "\u001b[0;31mNameError\u001b[0m                                 Traceback (most recent call last)",
      "Cell \u001b[0;32mIn[6], line 15\u001b[0m\n\u001b[1;32m     13\u001b[0m         csv_file_path \u001b[38;5;241m=\u001b[39m os\u001b[38;5;241m.\u001b[39mpath\u001b[38;5;241m.\u001b[39mjoin(output_directory, csv_filename)\n\u001b[1;32m     14\u001b[0m         df\u001b[38;5;241m.\u001b[39mto_csv(csv_file_path, index\u001b[38;5;241m=\u001b[39m\u001b[38;5;28;01mFalse\u001b[39;00m)\n\u001b[0;32m---> 15\u001b[0m \u001b[43mPrint\u001b[49m(\u001b[38;5;124m\"\u001b[39m\u001b[38;5;124mConversion completed successfully. CSV files saved in the \u001b[39m\u001b[38;5;124m'\u001b[39m\u001b[38;5;124moutput\u001b[39m\u001b[38;5;124m'\u001b[39m\u001b[38;5;124m folder.\u001b[39m\u001b[38;5;124m\"\u001b[39m)\n",
      "\u001b[0;31mNameError\u001b[0m: name 'Print' is not defined"
     ]
    }
   ],
   "source": [
    "# Loop through the files\n",
    "for file in files:\n",
    "    # Check if the file is an Excel file (xlsx or xls)\n",
    "    if file.endswith('.xlsx') or file.endswith('.xls'):\n",
    "        # Generate the output CSV file name by replacing the extension\n",
    "        csv_filename = os.path.splitext(file)[0] + '.csv'\n",
    "        \n",
    "        # Read the Excel file using pandas\n",
    "        excel_file_path = os.path.join(source_directory, file)\n",
    "        df = pd.read_excel(excel_file_path)\n",
    "        \n",
    "        # Write the DataFrame to CSV\n",
    "        csv_file_path = os.path.join(output_directory, csv_filename)\n",
    "        df.to_csv(csv_file_path, index=False)\n",
    "    \n",
    "print(\"Conversion completed successfully. CSV files saved in the 'output' folder.\")"
   ]
  }
 ],
 "metadata": {
  "kernelspec": {
   "display_name": "Python 3 (ipykernel)",
   "language": "python",
   "name": "python3"
  },
  "language_info": {
   "codemirror_mode": {
    "name": "ipython",
    "version": 3
   },
   "file_extension": ".py",
   "mimetype": "text/x-python",
   "name": "python",
   "nbconvert_exporter": "python",
   "pygments_lexer": "ipython3",
   "version": "3.9.6"
  }
 },
 "nbformat": 4,
 "nbformat_minor": 5
}
